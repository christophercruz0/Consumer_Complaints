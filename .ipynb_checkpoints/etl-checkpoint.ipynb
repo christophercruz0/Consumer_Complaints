{
 "cells": [
  {
   "cell_type": "code",
   "execution_count": 1,
   "id": "8b4ca91b",
   "metadata": {},
   "outputs": [],
   "source": [
    "# Import dependencies\n",
    "import pandas as pd\n",
    "import numpy as np\n",
    "pd.set_option('max_colwidth', 400)"
   ]
  },
  {
   "cell_type": "code",
   "execution_count": 2,
   "id": "d91138b9",
   "metadata": {},
   "outputs": [
    {
     "ename": "SyntaxError",
     "evalue": "(unicode error) 'unicodeescape' codec can't decode bytes in position 2-3: truncated \\UXXXXXXXX escape (350116582.py, line 2)",
     "output_type": "error",
     "traceback": [
      "\u001b[1;36m  File \u001b[1;32m\"C:\\Users\\17323\\AppData\\Local\\Temp\\ipykernel_21068\\350116582.py\"\u001b[1;36m, line \u001b[1;32m2\u001b[0m\n\u001b[1;33m    \"C:\\Users\\17323\\Desktop\\projects\\Project -3\\Data\\complaints uploaded.csv\"\u001b[0m\n\u001b[1;37m                                                                             ^\u001b[0m\n\u001b[1;31mSyntaxError\u001b[0m\u001b[1;31m:\u001b[0m (unicode error) 'unicodeescape' codec can't decode bytes in position 2-3: truncated \\UXXXXXXXX escape\n"
     ]
    }
   ],
   "source": [
    "complaints_info_df = pd.read_csv('/Users/17323/Desktop/projects/Project -3/Data/complaints uploaded.csv')\n",
    "new_df = complaints_info_df[['Date received','Product','Sub-product','Issue','Sub-issue','Company','State','ZIP code','Consumer consent provided?','Submitted via','Date sent to company','Company response to consumer','Timely response?','Complaint ID']]\n",
    "new_df.head()"
   ]
  },
  {
   "cell_type": "code",
   "execution_count": null,
   "id": "b1ed4477",
   "metadata": {},
   "outputs": [],
   "source": [
    "new_df.to_csv('/Users/17323/Desktop/projects/Project -3/Data/Consumer Complaint_Cleaned.csv', encoding='utf-8', index=False)"
   ]
  },
  {
   "cell_type": "code",
   "execution_count": null,
   "id": "f5861edb",
   "metadata": {},
   "outputs": [],
   "source": []
  }
 ],
 "metadata": {
  "kernelspec": {
   "display_name": "Python 3 (ipykernel)",
   "language": "python",
   "name": "python3"
  },
  "language_info": {
   "codemirror_mode": {
    "name": "ipython",
    "version": 3
   },
   "file_extension": ".py",
   "mimetype": "text/x-python",
   "name": "python",
   "nbconvert_exporter": "python",
   "pygments_lexer": "ipython3",
   "version": "3.7.7"
  }
 },
 "nbformat": 4,
 "nbformat_minor": 5
}
