{
 "cells": [
  {
   "cell_type": "code",
   "execution_count": 2,
   "id": "3adc0be0",
   "metadata": {},
   "outputs": [],
   "source": [
    "# Import dependencies\n",
    "import pandas as pd\n",
    "import numpy as np\n",
    "pd.set_option('max_colwidth', 400)"
   ]
  },
  {
   "cell_type": "code",
   "execution_count": 22,
   "id": "9a92a09d",
   "metadata": {},
   "outputs": [],
   "source": [
    "# load csv file\n",
    "complaints_info_df = pd.read_csv('../Resources/complaints_uploaded.csv')\n",
    "\n",
    "# filter to only the columns that we are interested in\n",
    "# names = ['Date received','Product','Sub-product','Issue','Sub-issue','Company','State',\n",
    "#          'Submitted via','Date sent to company','Company response to consumer','Timely response?','Complaint ID']\n",
    "names = ['Date received','Product','Company','Date sent to company','Company response to consumer','Complaint ID']\n",
    "new_df = complaints_info_df[names]"
   ]
  },
  {
   "cell_type": "code",
   "execution_count": 23,
   "id": "0bca4262",
   "metadata": {},
   "outputs": [],
   "source": [
    "# rename the columns to developer friendly names\n",
    "# rename = {'Date received':'date_received' ,'Product':'product','Sub-product': 'sub_product',\n",
    "#           'Issue': 'issue','Sub-issue': 'sub_issue', 'Company':'company','State':'state',\n",
    "#           'Submitted via': 'submitted_via', 'Date sent to company': 'date_sent_to_company',\n",
    "#           'Company response to consumer': 'company_response_to_consumer','Timely response?': 'timely_response',\n",
    "#           'Complaint ID': 'complaint_ID'}\n",
    "rename = {'Date received':'date_received' ,'Product':'product', 'Company':'company',\n",
    "          'Date sent to company': 'date_sent_to_company','Company response to consumer': 'company_response_to_consumer',\n",
    "          'Complaint ID': 'complaint_ID'}\n",
    "cleaned_df = new_df.rename(columns = rename)"
   ]
  },
  {
   "cell_type": "code",
   "execution_count": 24,
   "id": "88318617",
   "metadata": {},
   "outputs": [
    {
     "data": {
      "text/plain": [
       "925182"
      ]
     },
     "execution_count": 24,
     "metadata": {},
     "output_type": "execute_result"
    }
   ],
   "source": [
    "# get number of rows\n",
    "cleaned_df.shape[0]"
   ]
  },
  {
   "cell_type": "code",
   "execution_count": 25,
   "id": "ff1c6009",
   "metadata": {},
   "outputs": [],
   "source": [
    "# drop rows with missing data\n",
    "cleaned_df = cleaned_df.dropna()"
   ]
  },
  {
   "cell_type": "code",
   "execution_count": 26,
   "id": "80bba1d4",
   "metadata": {},
   "outputs": [
    {
     "data": {
      "text/plain": [
       "925182"
      ]
     },
     "execution_count": 26,
     "metadata": {},
     "output_type": "execute_result"
    }
   ],
   "source": [
    "# get number of rows\n",
    "cleaned_df.shape[0]"
   ]
  },
  {
   "cell_type": "code",
   "execution_count": 27,
   "id": "d13f1e78",
   "metadata": {},
   "outputs": [
    {
     "data": {
      "text/plain": [
       "date_received                   object\n",
       "product                         object\n",
       "company                         object\n",
       "date_sent_to_company            object\n",
       "company_response_to_consumer    object\n",
       "complaint_ID                     int64\n",
       "dtype: object"
      ]
     },
     "execution_count": 27,
     "metadata": {},
     "output_type": "execute_result"
    }
   ],
   "source": [
    "# check all the data types for all the columns\n",
    "cleaned_df.dtypes"
   ]
  },
  {
   "cell_type": "code",
   "execution_count": 28,
   "id": "a76f3411",
   "metadata": {},
   "outputs": [
    {
     "data": {
      "text/plain": [
       "date_received                   datetime64[ns]\n",
       "product                                 object\n",
       "company                                 object\n",
       "date_sent_to_company            datetime64[ns]\n",
       "company_response_to_consumer            object\n",
       "complaint_ID                             int64\n",
       "dtype: object"
      ]
     },
     "execution_count": 28,
     "metadata": {},
     "output_type": "execute_result"
    }
   ],
   "source": [
    "# chnage the to datetime objects\n",
    "cleaned_df[\"date_received\"] = pd.to_datetime(cleaned_df[\"date_received\"])\n",
    "cleaned_df[\"date_sent_to_company\"] = pd.to_datetime(cleaned_df[\"date_sent_to_company\"])\n",
    "cleaned_df.dtypes"
   ]
  },
  {
   "cell_type": "code",
   "execution_count": 29,
   "id": "c1c6295a",
   "metadata": {},
   "outputs": [],
   "source": [
    "# sort table by date_received\n",
    "cleaned_df = cleaned_df.sort_values(by = [\"date_received\"], ignore_index = True)"
   ]
  },
  {
   "cell_type": "code",
   "execution_count": 30,
   "id": "5e186609",
   "metadata": {},
   "outputs": [
    {
     "data": {
      "text/html": [
       "<div>\n",
       "<style scoped>\n",
       "    .dataframe tbody tr th:only-of-type {\n",
       "        vertical-align: middle;\n",
       "    }\n",
       "\n",
       "    .dataframe tbody tr th {\n",
       "        vertical-align: top;\n",
       "    }\n",
       "\n",
       "    .dataframe thead th {\n",
       "        text-align: right;\n",
       "    }\n",
       "</style>\n",
       "<table border=\"1\" class=\"dataframe\">\n",
       "  <thead>\n",
       "    <tr style=\"text-align: right;\">\n",
       "      <th></th>\n",
       "      <th>date_received</th>\n",
       "      <th>product</th>\n",
       "      <th>company</th>\n",
       "      <th>date_sent_to_company</th>\n",
       "      <th>company_response_to_consumer</th>\n",
       "      <th>complaint_ID</th>\n",
       "    </tr>\n",
       "  </thead>\n",
       "  <tbody>\n",
       "    <tr>\n",
       "      <th>0</th>\n",
       "      <td>2022-04-01</td>\n",
       "      <td>Checking or savings account</td>\n",
       "      <td>WELLS FARGO &amp; COMPANY</td>\n",
       "      <td>2022-04-01</td>\n",
       "      <td>Closed with explanation</td>\n",
       "      <td>5396097</td>\n",
       "    </tr>\n",
       "    <tr>\n",
       "      <th>1</th>\n",
       "      <td>2022-04-01</td>\n",
       "      <td>Credit reporting, credit repair services, or other personal consumer reports</td>\n",
       "      <td>EQUIFAX, INC.</td>\n",
       "      <td>2022-04-01</td>\n",
       "      <td>Closed with explanation</td>\n",
       "      <td>5391803</td>\n",
       "    </tr>\n",
       "    <tr>\n",
       "      <th>2</th>\n",
       "      <td>2022-04-01</td>\n",
       "      <td>Credit reporting, credit repair services, or other personal consumer reports</td>\n",
       "      <td>TRANSUNION INTERMEDIATE HOLDINGS, INC.</td>\n",
       "      <td>2022-04-01</td>\n",
       "      <td>Closed with non-monetary relief</td>\n",
       "      <td>5393784</td>\n",
       "    </tr>\n",
       "    <tr>\n",
       "      <th>3</th>\n",
       "      <td>2022-04-01</td>\n",
       "      <td>Debt collection</td>\n",
       "      <td>Resurgent Capital Services L.P.</td>\n",
       "      <td>2022-04-01</td>\n",
       "      <td>Closed with explanation</td>\n",
       "      <td>5393812</td>\n",
       "    </tr>\n",
       "    <tr>\n",
       "      <th>4</th>\n",
       "      <td>2022-04-01</td>\n",
       "      <td>Credit reporting, credit repair services, or other personal consumer reports</td>\n",
       "      <td>CL Holdings LLC</td>\n",
       "      <td>2022-04-01</td>\n",
       "      <td>Closed with explanation</td>\n",
       "      <td>5395816</td>\n",
       "    </tr>\n",
       "  </tbody>\n",
       "</table>\n",
       "</div>"
      ],
      "text/plain": [
       "  date_received  \\\n",
       "0    2022-04-01   \n",
       "1    2022-04-01   \n",
       "2    2022-04-01   \n",
       "3    2022-04-01   \n",
       "4    2022-04-01   \n",
       "\n",
       "                                                                        product  \\\n",
       "0                                                   Checking or savings account   \n",
       "1  Credit reporting, credit repair services, or other personal consumer reports   \n",
       "2  Credit reporting, credit repair services, or other personal consumer reports   \n",
       "3                                                               Debt collection   \n",
       "4  Credit reporting, credit repair services, or other personal consumer reports   \n",
       "\n",
       "                                  company date_sent_to_company  \\\n",
       "0                   WELLS FARGO & COMPANY           2022-04-01   \n",
       "1                           EQUIFAX, INC.           2022-04-01   \n",
       "2  TRANSUNION INTERMEDIATE HOLDINGS, INC.           2022-04-01   \n",
       "3         Resurgent Capital Services L.P.           2022-04-01   \n",
       "4                         CL Holdings LLC           2022-04-01   \n",
       "\n",
       "      company_response_to_consumer  complaint_ID  \n",
       "0          Closed with explanation       5396097  \n",
       "1          Closed with explanation       5391803  \n",
       "2  Closed with non-monetary relief       5393784  \n",
       "3          Closed with explanation       5393812  \n",
       "4          Closed with explanation       5395816  "
      ]
     },
     "execution_count": 30,
     "metadata": {},
     "output_type": "execute_result"
    }
   ],
   "source": [
    "cleaned_df.head(5)"
   ]
  },
  {
   "cell_type": "code",
   "execution_count": 31,
   "id": "435a917f",
   "metadata": {},
   "outputs": [
    {
     "data": {
      "text/plain": [
       "array(['Checking or savings account',\n",
       "       'Credit reporting, credit repair services, or other personal consumer reports',\n",
       "       'Debt collection', 'Mortgage', 'Student loan',\n",
       "       'Credit card or prepaid card',\n",
       "       'Money transfer, virtual currency, or money service',\n",
       "       'Payday loan, title loan, or personal loan',\n",
       "       'Vehicle loan or lease'], dtype=object)"
      ]
     },
     "execution_count": 31,
     "metadata": {},
     "output_type": "execute_result"
    }
   ],
   "source": [
    "# check all distinct values of product column\n",
    "cleaned_df[\"product\"].unique()"
   ]
  },
  {
   "cell_type": "code",
   "execution_count": 34,
   "id": "34e567b7",
   "metadata": {},
   "outputs": [],
   "source": [
    "# check all distinct values of sub_product column\n",
    "#cleaned_df[\"sub_product\"].unique()"
   ]
  },
  {
   "cell_type": "code",
   "execution_count": 35,
   "id": "e272b439",
   "metadata": {},
   "outputs": [],
   "source": [
    "# remove all unwanted sub_categories\n",
    "#cleaned_df = cleaned_df.query(\"sub_product != 'I do not know'\")\n",
    "#cleaned_df = cleaned_df.query(\"sub_product != 'None'\")"
   ]
  },
  {
   "cell_type": "code",
   "execution_count": 36,
   "id": "1a4f0218",
   "metadata": {},
   "outputs": [
    {
     "data": {
      "text/plain": [
       "925182"
      ]
     },
     "execution_count": 36,
     "metadata": {},
     "output_type": "execute_result"
    }
   ],
   "source": [
    "cleaned_df.shape[0]"
   ]
  },
  {
   "cell_type": "code",
   "execution_count": 39,
   "id": "ae947eed",
   "metadata": {},
   "outputs": [],
   "source": [
    "#cleaned_df['issue'].nunique()"
   ]
  },
  {
   "cell_type": "code",
   "execution_count": 40,
   "id": "f9dfe0c8",
   "metadata": {},
   "outputs": [],
   "source": [
    "#cleaned_df['sub_issue'].nunique()"
   ]
  },
  {
   "cell_type": "code",
   "execution_count": 41,
   "id": "b56b0135",
   "metadata": {},
   "outputs": [
    {
     "data": {
      "text/plain": [
       "3267"
      ]
     },
     "execution_count": 41,
     "metadata": {},
     "output_type": "execute_result"
    }
   ],
   "source": [
    "# number of companies\n",
    "cleaned_df['company'].nunique()"
   ]
  },
  {
   "cell_type": "code",
   "execution_count": 43,
   "id": "27baec1b",
   "metadata": {},
   "outputs": [],
   "source": [
    "# check all distinct values of state column\n",
    "#cleaned_df['state'].sort_values().unique()"
   ]
  },
  {
   "cell_type": "code",
   "execution_count": 44,
   "id": "de328a1b",
   "metadata": {},
   "outputs": [],
   "source": [
    "#cleaned_df.shape[0]"
   ]
  },
  {
   "cell_type": "code",
   "execution_count": 51,
   "id": "8a43b4dc",
   "metadata": {},
   "outputs": [],
   "source": [
    "# us_states = [\"AL\", \"AK\", \"AZ\", \"AR\", \"CA\", \n",
    "#              \"CO\", \"CT\", \"DE\", \"DC\", \"FL\", \n",
    "#              \"GA\", \"HI\", \"ID\", \"IL\", \"IN\", \n",
    "#              \"IA\", \"KS\", \"KY\", \"LA\", \"ME\", \n",
    "#              \"MD\", \"MA\", \"MI\", \"MN\", \"MS\", \n",
    "#              \"MO\", \"MT\", \"NE\", \"NV\", \"NH\", \n",
    "#              \"NJ\", \"NM\", \"NY\", \"NC\", \"ND\", \n",
    "#              \"OH\", \"OK\", \"OR\", \"PA\", \"RI\", \n",
    "#              \"SC\", \"SD\", \"TN\", \"TX\", \"UT\", \n",
    "#              \"VT\", \"VA\", \"WA\", \"WV\", \"WI\", \"WY\"]\n",
    "# cleaned_df = cleaned_df[cleaned_df[\"state\"].isin(us_states)]"
   ]
  },
  {
   "cell_type": "code",
   "execution_count": 45,
   "id": "cdb8b147",
   "metadata": {},
   "outputs": [],
   "source": [
    "# remove unwanted states\n",
    "# cleaned_df['state'].sort_values().unique()"
   ]
  },
  {
   "cell_type": "code",
   "execution_count": 46,
   "id": "36380f98",
   "metadata": {},
   "outputs": [
    {
     "data": {
      "text/plain": [
       "925182"
      ]
     },
     "execution_count": 46,
     "metadata": {},
     "output_type": "execute_result"
    }
   ],
   "source": [
    "cleaned_df.shape[0]"
   ]
  },
  {
   "cell_type": "code",
   "execution_count": 47,
   "id": "8ace7d1f",
   "metadata": {},
   "outputs": [],
   "source": [
    "# check all distinct values of submitted_via column\n",
    "#cleaned_df['submitted_via'].unique()"
   ]
  },
  {
   "cell_type": "code",
   "execution_count": 48,
   "id": "ddf10201",
   "metadata": {},
   "outputs": [],
   "source": [
    "# check all distinct values of company_response_to_consumer column\n",
    "#cleaned_df['company_response_to_consumer'].unique()"
   ]
  },
  {
   "cell_type": "code",
   "execution_count": 49,
   "id": "58dacba5",
   "metadata": {},
   "outputs": [],
   "source": [
    "# remove unwanted values\n",
    "#cleaned_df = cleaned_df.query(\"company_response_to_consumer != 'None'\")\n",
    "#cleaned_df = cleaned_df.query(\"company_response_to_consumer != 'In progress'\")"
   ]
  },
  {
   "cell_type": "code",
   "execution_count": 50,
   "id": "aed954b2",
   "metadata": {},
   "outputs": [
    {
     "data": {
      "text/plain": [
       "925182"
      ]
     },
     "execution_count": 50,
     "metadata": {},
     "output_type": "execute_result"
    }
   ],
   "source": [
    "cleaned_df.shape[0]"
   ]
  },
  {
   "cell_type": "code",
   "execution_count": 51,
   "id": "e1f75b35",
   "metadata": {},
   "outputs": [],
   "source": [
    "# check all distinct values of timely_response column\n",
    "#cleaned_df['timely_response'].unique()"
   ]
  },
  {
   "cell_type": "code",
   "execution_count": 52,
   "id": "b0090d09",
   "metadata": {},
   "outputs": [],
   "source": [
    "cleaned_df.to_csv('../Resources/cleaned.csv', encoding='utf-8', index=False)"
   ]
  },
  {
   "cell_type": "code",
   "execution_count": null,
   "id": "3c5d5d86",
   "metadata": {},
   "outputs": [],
   "source": []
  },
  {
   "cell_type": "code",
   "execution_count": null,
   "id": "f909d90a",
   "metadata": {},
   "outputs": [],
   "source": []
  }
 ],
 "metadata": {
  "kernelspec": {
   "display_name": "Python 3 (ipykernel)",
   "language": "python",
   "name": "python3"
  },
  "language_info": {
   "codemirror_mode": {
    "name": "ipython",
    "version": 3
   },
   "file_extension": ".py",
   "mimetype": "text/x-python",
   "name": "python",
   "nbconvert_exporter": "python",
   "pygments_lexer": "ipython3",
   "version": "3.9.13"
  }
 },
 "nbformat": 4,
 "nbformat_minor": 5
}
