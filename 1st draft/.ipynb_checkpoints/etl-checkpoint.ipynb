{
 "cells": [
  {
   "cell_type": "code",
   "execution_count": 7,
   "id": "3adc0be0",
   "metadata": {},
   "outputs": [],
   "source": [
    "# Import dependencies\n",
    "import pandas as pd\n",
    "import numpy as np\n",
    "pd.set_option('max_colwidth', 400)"
   ]
  },
  {
   "cell_type": "code",
   "execution_count": 9,
   "id": "9a92a09d",
   "metadata": {},
   "outputs": [],
   "source": [
    "complaints_info_df = pd.read_csv('../Resources/complaints_uploaded.csv')\n",
    "new_df = complaints_info_df[['Date received','Product','Sub-product','Issue','Sub-issue','Company','State','ZIP code','Consumer consent provided?','Submitted via','Date sent to company','Company response to consumer','Timely response?','Complaint ID']]"
   ]
  },
  {
   "cell_type": "code",
   "execution_count": 11,
   "id": "0bca4262",
   "metadata": {},
   "outputs": [
    {
     "data": {
      "text/html": [
       "<div>\n",
       "<style scoped>\n",
       "    .dataframe tbody tr th:only-of-type {\n",
       "        vertical-align: middle;\n",
       "    }\n",
       "\n",
       "    .dataframe tbody tr th {\n",
       "        vertical-align: top;\n",
       "    }\n",
       "\n",
       "    .dataframe thead th {\n",
       "        text-align: right;\n",
       "    }\n",
       "</style>\n",
       "<table border=\"1\" class=\"dataframe\">\n",
       "  <thead>\n",
       "    <tr style=\"text-align: right;\">\n",
       "      <th></th>\n",
       "      <th>date_received</th>\n",
       "      <th>product</th>\n",
       "      <th>sub_product</th>\n",
       "      <th>issue</th>\n",
       "      <th>sub_issue</th>\n",
       "      <th>company</th>\n",
       "      <th>state</th>\n",
       "      <th>zip_code</th>\n",
       "      <th>consumer_consent_provided</th>\n",
       "      <th>submitted_via</th>\n",
       "      <th>date_sent_to_company</th>\n",
       "      <th>company_response_to_consumer</th>\n",
       "      <th>timely_response</th>\n",
       "      <th>complaint_ID</th>\n",
       "    </tr>\n",
       "  </thead>\n",
       "  <tbody>\n",
       "    <tr>\n",
       "      <th>0</th>\n",
       "      <td>04/07/22</td>\n",
       "      <td>Debt collection</td>\n",
       "      <td>Credit card debt</td>\n",
       "      <td>Attempts to collect debt not owed</td>\n",
       "      <td>Debt was result of identity theft</td>\n",
       "      <td>Colony Brands, Inc.</td>\n",
       "      <td>AL</td>\n",
       "      <td>36037</td>\n",
       "      <td>Consent provided</td>\n",
       "      <td>Web</td>\n",
       "      <td>04/27/22</td>\n",
       "      <td>Closed with explanation</td>\n",
       "      <td>Yes</td>\n",
       "      <td>5420254</td>\n",
       "    </tr>\n",
       "    <tr>\n",
       "      <th>1</th>\n",
       "      <td>09/15/22</td>\n",
       "      <td>Credit reporting, credit repair services, or other personal consumer reports</td>\n",
       "      <td>Credit reporting</td>\n",
       "      <td>Improper use of your report</td>\n",
       "      <td>Credit inquiries on your report that you don't recognize</td>\n",
       "      <td>EQUIFAX, INC.</td>\n",
       "      <td>TX</td>\n",
       "      <td>76140</td>\n",
       "      <td>Consent not provided</td>\n",
       "      <td>Web</td>\n",
       "      <td>09/15/22</td>\n",
       "      <td>Closed with explanation</td>\n",
       "      <td>Yes</td>\n",
       "      <td>5986208</td>\n",
       "    </tr>\n",
       "  </tbody>\n",
       "</table>\n",
       "</div>"
      ],
      "text/plain": [
       "  date_received  \\\n",
       "0      04/07/22   \n",
       "1      09/15/22   \n",
       "\n",
       "                                                                        product  \\\n",
       "0                                                               Debt collection   \n",
       "1  Credit reporting, credit repair services, or other personal consumer reports   \n",
       "\n",
       "        sub_product                              issue  \\\n",
       "0  Credit card debt  Attempts to collect debt not owed   \n",
       "1  Credit reporting        Improper use of your report   \n",
       "\n",
       "                                                  sub_issue  \\\n",
       "0                         Debt was result of identity theft   \n",
       "1  Credit inquiries on your report that you don't recognize   \n",
       "\n",
       "               company state zip_code consumer_consent_provided submitted_via  \\\n",
       "0  Colony Brands, Inc.    AL    36037          Consent provided           Web   \n",
       "1        EQUIFAX, INC.    TX    76140      Consent not provided           Web   \n",
       "\n",
       "  date_sent_to_company company_response_to_consumer timely_response  \\\n",
       "0             04/27/22      Closed with explanation             Yes   \n",
       "1             09/15/22      Closed with explanation             Yes   \n",
       "\n",
       "   complaint_ID  \n",
       "0       5420254  \n",
       "1       5986208  "
      ]
     },
     "execution_count": 11,
     "metadata": {},
     "output_type": "execute_result"
    }
   ],
   "source": [
    "rename = {'Date received':'date_received' ,'Product':'product','Sub-product': 'sub_product',\n",
    "          'Issue': 'issue','Sub-issue': 'sub_issue', 'Company':'company','State':'state',\n",
    "          'ZIP code': 'zip_code','Consumer consent provided?': 'consumer_consent_provided',\n",
    "          'Submitted via': 'submitted_via', 'Date sent to company': 'date_sent_to_company',\n",
    "          'Company response to consumer': 'company_response_to_consumer','Timely response?': 'timely_response',\n",
    "          'Complaint ID': 'complaint_ID'}\n",
    "cleaned_df = new_df.rename(columns = rename)\n",
    "cleaned_df.head(2)"
   ]
  },
  {
   "cell_type": "code",
   "execution_count": 16,
   "id": "3a6ff55f",
   "metadata": {},
   "outputs": [
    {
     "data": {
      "text/plain": [
       "925182"
      ]
     },
     "execution_count": 16,
     "metadata": {},
     "output_type": "execute_result"
    }
   ],
   "source": [
    "cleaned_df[\"complaint_ID\"].nunique()"
   ]
  },
  {
   "cell_type": "code",
   "execution_count": 12,
   "id": "4256d728",
   "metadata": {},
   "outputs": [],
   "source": [
    "cleaned_df.to_csv('../Resources/cleaned.csv', encoding='utf-8', index=False)"
   ]
  },
  {
   "cell_type": "code",
   "execution_count": null,
   "id": "bbcf63b1",
   "metadata": {},
   "outputs": [],
   "source": []
  }
 ],
 "metadata": {
  "kernelspec": {
   "display_name": "Python 3 (ipykernel)",
   "language": "python",
   "name": "python3"
  },
  "language_info": {
   "codemirror_mode": {
    "name": "ipython",
    "version": 3
   },
   "file_extension": ".py",
   "mimetype": "text/x-python",
   "name": "python",
   "nbconvert_exporter": "python",
   "pygments_lexer": "ipython3",
   "version": "3.9.13"
  }
 },
 "nbformat": 4,
 "nbformat_minor": 5
}
